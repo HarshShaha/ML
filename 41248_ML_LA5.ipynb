import numpy as np
import pandas as pd
import matplotlib.pyplot as plt
import seaborn as sns
from sklearn.preprocessing import StandardScaler
from sklearn.neighbors import KNeighborsClassifier
from sklearn.model_selection import train_test_split
from sklearn.metrics import confusion_matrix, f1_score, recall_score, precision_score,accuracy_score

#--------------------------------------------------------------------------

df=pd.read_csv(r"diabetes.csv")

#---------------------------------------------------------------------------

